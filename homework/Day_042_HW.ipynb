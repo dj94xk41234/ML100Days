{
 "cells": [
  {
   "cell_type": "markdown",
   "metadata": {},
   "source": [
    "## [作業重點]\n",
    "目前你應該已經要很清楚資料集中，資料的型態是什麼樣子囉！包含特徵 (features) 與標籤 (labels)。因此要記得未來不管什麼專案，必須要把資料清理成相同的格式，才能送進模型訓練。\n",
    "今天的作業開始踏入決策樹這個非常重要的模型，請務必確保你理解模型中每個超參數的意思，並試著調整看看，對最終預測結果的影響為何"
   ]
  },
  {
   "cell_type": "markdown",
   "metadata": {},
   "source": [
    "## 作業\n",
    "\n",
    "1. 試著調整 DecisionTreeClassifier(...) 中的參數，並觀察是否會改變結果？\n",
    "\n",
    "ans:樹的深度改成2時有明顯改變\n",
    "2. 改用其他資料集 (boston, wine)，並與回歸模型的結果進行比較"
   ]
  },
  {
   "cell_type": "code",
   "execution_count": 29,
   "metadata": {},
   "outputs": [],
   "source": [
    "from sklearn import datasets, metrics\n",
    "\n",
    "# 如果是分類問題，請使用 DecisionTreeClassifier，若為回歸問題，請使用 DecisionTreeRegressor\n",
    "from sklearn.tree import DecisionTreeClassifier, DecisionTreeRegressor\n",
    "from sklearn.model_selection import train_test_split\n",
    "from sklearn import tree\n"
   ]
  },
  {
   "cell_type": "code",
   "execution_count": 30,
   "metadata": {},
   "outputs": [],
   "source": [
    "# 讀取鳶尾花資料集\n",
    "iris = datasets.load_iris()\n",
    "\n",
    "# 切分訓練集/測試集\n",
    "x_train, x_test, y_train, y_test = train_test_split(iris.data, iris.target, test_size=0.25, random_state=4)\n",
    "\n",
    "# 建立模型\n",
    "clf = DecisionTreeClassifier( criterion='gini',max_depth = 3)\n",
    "\n",
    "# 訓練模型\n",
    "clf.fit(x_train, y_train)\n",
    "\n",
    "# 預測測試集\n",
    "y_pred = clf.predict(x_test)"
   ]
  },
  {
   "cell_type": "code",
   "execution_count": 31,
   "metadata": {},
   "outputs": [
    {
     "name": "stdout",
     "output_type": "stream",
     "text": [
      "Acuuracy:  0.9736842105263158\n",
      "['sepal length (cm)', 'sepal width (cm)', 'petal length (cm)', 'petal width (cm)']\n",
      "Feature importance:  [0.         0.         0.06405315 0.93594685]\n"
     ]
    }
   ],
   "source": [
    "acc = metrics.accuracy_score(y_test, y_pred)\n",
    "print(\"Acuuracy: \", acc)\n",
    "\n",
    "print(iris.feature_names)\n",
    "print(\"Feature importance: \", clf.feature_importances_)"
   ]
  },
  {
   "cell_type": "code",
   "execution_count": 32,
   "metadata": {},
   "outputs": [
    {
     "data": {
      "text/plain": [
       "[Text(125.55000000000001, 190.26, 'X[3] <= 0.8\\ngini = 0.663\\nsamples = 112\\nvalue = [32, 42, 38]'),\n",
       " Text(83.7, 135.9, 'gini = 0.0\\nsamples = 32\\nvalue = [32, 0, 0]'),\n",
       " Text(167.4, 135.9, 'X[3] <= 1.75\\ngini = 0.499\\nsamples = 80\\nvalue = [0, 42, 38]'),\n",
       " Text(83.7, 81.53999999999999, 'X[2] <= 4.95\\ngini = 0.162\\nsamples = 45\\nvalue = [0, 41, 4]'),\n",
       " Text(41.85, 27.180000000000007, 'gini = 0.048\\nsamples = 41\\nvalue = [0, 40, 1]'),\n",
       " Text(125.55000000000001, 27.180000000000007, 'gini = 0.375\\nsamples = 4\\nvalue = [0, 1, 3]'),\n",
       " Text(251.10000000000002, 81.53999999999999, 'X[2] <= 4.85\\ngini = 0.056\\nsamples = 35\\nvalue = [0, 1, 34]'),\n",
       " Text(209.25, 27.180000000000007, 'gini = 0.444\\nsamples = 3\\nvalue = [0, 1, 2]'),\n",
       " Text(292.95, 27.180000000000007, 'gini = 0.0\\nsamples = 32\\nvalue = [0, 0, 32]')]"
      ]
     },
     "execution_count": 32,
     "metadata": {},
     "output_type": "execute_result"
    },
    {
     "data": {
      "image/png": "[encoded data removed]",
      "text/plain": [
       "<Figure size 432x288 with 1 Axes>"
      ]
     },
     "metadata": {
      "needs_background": "light"
     },
     "output_type": "display_data"
    }
   ],
   "source": [
    " tree.plot_tree(clf)"
   ]
  },
  {
   "cell_type": "code",
   "execution_count": 58,
   "metadata": {},
   "outputs": [],
   "source": [
    "from sklearn import datasets, metrics\n",
    "\n",
    "# 如果是分類問題，請使用 DecisionTreeClassifier，若為回歸問題，請使用 DecisionTreeRegressor\n",
    "from sklearn.tree import DecisionTreeClassifier, DecisionTreeRegressor\n",
    "from sklearn.model_selection import train_test_split\n",
    "from sklearn import tree\n"
   ]
  },
  {
   "cell_type": "code",
   "execution_count": 59,
   "metadata": {},
   "outputs": [],
   "source": [
    "# 讀取資料集\n",
    "wine = datasets.load_wine()\n",
    "\n",
    "# 切分訓練集/測試集\n",
    "x_train, x_test, y_train, y_test = train_test_split(wine.data, wine.target, test_size=0.25, random_state=4)\n",
    "\n",
    "# 建立模型\n",
    "clf = DecisionTreeRegressor( max_depth = 5)\n",
    "\n",
    "# 訓練模型\n",
    "clf.fit(x_train, y_train)\n",
    "\n",
    "# 預測測試集\n",
    "y_pred = clf.predict(x_test)"
   ]
  },
  {
   "cell_type": "code",
   "execution_count": 60,
   "metadata": {},
   "outputs": [
    {
     "name": "stdout",
     "output_type": "stream",
     "text": [
      "['alcohol', 'malic_acid', 'ash', 'alcalinity_of_ash', 'magnesium', 'total_phenols', 'flavanoids', 'nonflavanoid_phenols', 'proanthocyanins', 'color_intensity', 'hue', 'od280/od315_of_diluted_wines', 'proline']\n",
      "Feature importance:  [0.         0.         0.         0.00299987 0.04671228 0.\n",
      " 0.61367513 0.         0.         0.08462354 0.         0.\n",
      " 0.25198917]\n",
      "Mean squared error: 0.04\n"
     ]
    },
    {
     "data": {
      "image/svg+xml": [
       "<?xml version=\"1.0\" encoding=\"UTF-8\" standalone=\"no\"?>\r\n",
       "<!DOCTYPE svg PUBLIC \"-//W3C//DTD SVG 1.1//EN\"\r\n",
       " \"http://www.w3.org/Graphics/SVG/1.1/DTD/svg11.dtd\">\r\n",
       "<!-- Generated by graphviz version 2.38.0 (20140413.2041)\r\n",
       " -->\r\n",
       "<!-- Title: Tree Pages: 1 -->\r\n",
       "<svg width=\"655pt\" height=\"477pt\"\r\n",
       " viewBox=\"0.00 0.00 655.00 477.00\" xmlns=\"http://www.w3.org/2000/svg\" xmlns:xlink=\"http://www.w3.org/1999/xlink\">\r\n",
       "<g id=\"graph0\" class=\"graph\" transform=\"scale(1 1) rotate(0) translate(4 473)\">\r\n",
       "<title>Tree</title>\r\n",
       "<polygon fill=\"white\" stroke=\"none\" points=\"-4,4 -4,-473 651,-473 651,4 -4,4\"/>\r\n",
       "<!-- 0 -->\r\n",
       "<g id=\"node1\" class=\"node\"><title>0</title>\r\n",
       "<path fill=\"#f3c5a4\" stroke=\"black\" d=\"M296.5,-469C296.5,-469 188.5,-469 188.5,-469 182.5,-469 176.5,-463 176.5,-457 176.5,-457 176.5,-413 176.5,-413 176.5,-407 182.5,-401 188.5,-401 188.5,-401 296.5,-401 296.5,-401 302.5,-401 308.5,-407 308.5,-413 308.5,-413 308.5,-457 308.5,-457 308.5,-463 302.5,-469 296.5,-469\"/>\r\n",
       "<text text-anchor=\"start\" x=\"184.5\" y=\"-453.8\" font-family=\"Helvetica,sans-Serif\" font-size=\"14.00\">flavanoids ≤ 1.575</text>\r\n",
       "<text text-anchor=\"start\" x=\"202\" y=\"-438.8\" font-family=\"Helvetica,sans-Serif\" font-size=\"14.00\">mse = 0.572</text>\r\n",
       "<text text-anchor=\"start\" x=\"195\" y=\"-423.8\" font-family=\"Helvetica,sans-Serif\" font-size=\"14.00\">samples = 133</text>\r\n",
       "<text text-anchor=\"start\" x=\"199.5\" y=\"-408.8\" font-family=\"Helvetica,sans-Serif\" font-size=\"14.00\">value = 0.917</text>\r\n",
       "</g>\r\n",
       "<!-- 1 -->\r\n",
       "<g id=\"node2\" class=\"node\"><title>1</title>\r\n",
       "<path fill=\"#e88d4c\" stroke=\"black\" d=\"M232,-365C232,-365 97,-365 97,-365 91,-365 85,-359 85,-353 85,-353 85,-309 85,-309 85,-303 91,-297 97,-297 97,-297 232,-297 232,-297 238,-297 244,-303 244,-309 244,-309 244,-353 244,-353 244,-359 238,-365 232,-365\"/>\r\n",
       "<text text-anchor=\"start\" x=\"93\" y=\"-349.8\" font-family=\"Helvetica,sans-Serif\" font-size=\"14.00\">color_intensity ≤ 3.825</text>\r\n",
       "<text text-anchor=\"start\" x=\"124\" y=\"-334.8\" font-family=\"Helvetica,sans-Serif\" font-size=\"14.00\">mse = 0.157</text>\r\n",
       "<text text-anchor=\"start\" x=\"121\" y=\"-319.8\" font-family=\"Helvetica,sans-Serif\" font-size=\"14.00\">samples = 41</text>\r\n",
       "<text text-anchor=\"start\" x=\"121.5\" y=\"-304.8\" font-family=\"Helvetica,sans-Serif\" font-size=\"14.00\">value = 1.805</text>\r\n",
       "</g>\r\n",
       "<!-- 0&#45;&gt;1 -->\r\n",
       "<g id=\"edge1\" class=\"edge\"><title>0&#45;&gt;1</title>\r\n",
       "<path fill=\"none\" stroke=\"black\" d=\"M217.176,-400.884C210.5,-392.154 203.213,-382.625 196.246,-373.514\"/>\r\n",
       "<polygon fill=\"black\" stroke=\"black\" points=\"198.819,-371.117 189.964,-365.299 193.258,-375.369 198.819,-371.117\"/>\r\n",
       "<text text-anchor=\"middle\" x=\"186.66\" y=\"-386.38\" font-family=\"Helvetica,sans-Serif\" font-size=\"14.00\">True</text>\r\n",
       "</g>\r\n",
       "<!-- 4 -->\r\n",
       "<g id=\"node5\" class=\"node\"><title>4</title>\r\n",
       "<path fill=\"#f8decb\" stroke=\"black\" d=\"M364,-365C364,-365 277,-365 277,-365 271,-365 265,-359 265,-353 265,-353 265,-309 265,-309 265,-303 271,-297 277,-297 277,-297 364,-297 364,-297 370,-297 376,-303 376,-309 376,-309 376,-353 376,-353 376,-359 370,-365 364,-365\"/>\r\n",
       "<text text-anchor=\"start\" x=\"273\" y=\"-349.8\" font-family=\"Helvetica,sans-Serif\" font-size=\"14.00\">proline ≤ 722.5</text>\r\n",
       "<text text-anchor=\"start\" x=\"284\" y=\"-334.8\" font-family=\"Helvetica,sans-Serif\" font-size=\"14.00\">mse = 0.25</text>\r\n",
       "<text text-anchor=\"start\" x=\"277\" y=\"-319.8\" font-family=\"Helvetica,sans-Serif\" font-size=\"14.00\">samples = 92</text>\r\n",
       "<text text-anchor=\"start\" x=\"277.5\" y=\"-304.8\" font-family=\"Helvetica,sans-Serif\" font-size=\"14.00\">value = 0.522</text>\r\n",
       "</g>\r\n",
       "<!-- 0&#45;&gt;4 -->\r\n",
       "<g id=\"edge4\" class=\"edge\"><title>0&#45;&gt;4</title>\r\n",
       "<path fill=\"none\" stroke=\"black\" d=\"M267.824,-400.884C274.5,-392.154 281.787,-382.625 288.754,-373.514\"/>\r\n",
       "<polygon fill=\"black\" stroke=\"black\" points=\"291.742,-375.369 295.036,-365.299 286.181,-371.117 291.742,-375.369\"/>\r\n",
       "<text text-anchor=\"middle\" x=\"298.34\" y=\"-386.38\" font-family=\"Helvetica,sans-Serif\" font-size=\"14.00\">False</text>\r\n",
       "</g>\r\n",
       "<!-- 2 -->\r\n",
       "<g id=\"node3\" class=\"node\"><title>2</title>\r\n",
       "<path fill=\"#f2c09c\" stroke=\"black\" d=\"M83,-253.5C83,-253.5 12,-253.5 12,-253.5 6,-253.5 0,-247.5 0,-241.5 0,-241.5 0,-212.5 0,-212.5 0,-206.5 6,-200.5 12,-200.5 12,-200.5 83,-200.5 83,-200.5 89,-200.5 95,-206.5 95,-212.5 95,-212.5 95,-241.5 95,-241.5 95,-247.5 89,-253.5 83,-253.5\"/>\r\n",
       "<text text-anchor=\"start\" x=\"15.5\" y=\"-238.3\" font-family=\"Helvetica,sans-Serif\" font-size=\"14.00\">mse = 0.0</text>\r\n",
       "<text text-anchor=\"start\" x=\"8\" y=\"-223.3\" font-family=\"Helvetica,sans-Serif\" font-size=\"14.00\">samples = 8</text>\r\n",
       "<text text-anchor=\"start\" x=\"12.5\" y=\"-208.3\" font-family=\"Helvetica,sans-Serif\" font-size=\"14.00\">value = 1.0</text>\r\n",
       "</g>\r\n",
       "<!-- 1&#45;&gt;2 -->\r\n",
       "<g id=\"edge2\" class=\"edge\"><title>1&#45;&gt;2</title>\r\n",
       "<path fill=\"none\" stroke=\"black\" d=\"M126.513,-296.884C113.015,-285.116 97.8485,-271.894 84.4391,-260.203\"/>\r\n",
       "<polygon fill=\"black\" stroke=\"black\" points=\"86.6106,-257.453 76.7729,-253.52 82.0106,-262.73 86.6106,-257.453\"/>\r\n",
       "</g>\r\n",
       "<!-- 3 -->\r\n",
       "<g id=\"node4\" class=\"node\"><title>3</title>\r\n",
       "<path fill=\"#e58139\" stroke=\"black\" d=\"M204,-253.5C204,-253.5 125,-253.5 125,-253.5 119,-253.5 113,-247.5 113,-241.5 113,-241.5 113,-212.5 113,-212.5 113,-206.5 119,-200.5 125,-200.5 125,-200.5 204,-200.5 204,-200.5 210,-200.5 216,-206.5 216,-212.5 216,-212.5 216,-241.5 216,-241.5 216,-247.5 210,-253.5 204,-253.5\"/>\r\n",
       "<text text-anchor=\"start\" x=\"132.5\" y=\"-238.3\" font-family=\"Helvetica,sans-Serif\" font-size=\"14.00\">mse = 0.0</text>\r\n",
       "<text text-anchor=\"start\" x=\"121\" y=\"-223.3\" font-family=\"Helvetica,sans-Serif\" font-size=\"14.00\">samples = 33</text>\r\n",
       "<text text-anchor=\"start\" x=\"129.5\" y=\"-208.3\" font-family=\"Helvetica,sans-Serif\" font-size=\"14.00\">value = 2.0</text>\r\n",
       "</g>\r\n",
       "<!-- 1&#45;&gt;3 -->\r\n",
       "<g id=\"edge3\" class=\"edge\"><title>1&#45;&gt;3</title>\r\n",
       "<path fill=\"none\" stroke=\"black\" d=\"M164.5,-296.884C164.5,-286.326 164.5,-274.597 164.5,-263.854\"/>\r\n",
       "<polygon fill=\"black\" stroke=\"black\" points=\"168,-263.52 164.5,-253.52 161,-263.52 168,-263.52\"/>\r\n",
       "</g>\r\n",
       "<!-- 5 -->\r\n",
       "<g id=\"node6\" class=\"node\"><title>5</title>\r\n",
       "<path fill=\"#f2c19e\" stroke=\"black\" d=\"M395,-261C395,-261 246,-261 246,-261 240,-261 234,-255 234,-249 234,-249 234,-205 234,-205 234,-199 240,-193 246,-193 246,-193 395,-193 395,-193 401,-193 407,-199 407,-205 407,-205 407,-249 407,-249 407,-255 401,-261 395,-261\"/>\r\n",
       "<text text-anchor=\"start\" x=\"242\" y=\"-245.8\" font-family=\"Helvetica,sans-Serif\" font-size=\"14.00\">alcalinity_of_ash ≤ 17.75</text>\r\n",
       "<text text-anchor=\"start\" x=\"280\" y=\"-230.8\" font-family=\"Helvetica,sans-Serif\" font-size=\"14.00\">mse = 0.021</text>\r\n",
       "<text text-anchor=\"start\" x=\"277\" y=\"-215.8\" font-family=\"Helvetica,sans-Serif\" font-size=\"14.00\">samples = 46</text>\r\n",
       "<text text-anchor=\"start\" x=\"277.5\" y=\"-200.8\" font-family=\"Helvetica,sans-Serif\" font-size=\"14.00\">value = 0.978</text>\r\n",
       "</g>\r\n",
       "<!-- 4&#45;&gt;5 -->\r\n",
       "<g id=\"edge5\" class=\"edge\"><title>4&#45;&gt;5</title>\r\n",
       "<path fill=\"none\" stroke=\"black\" d=\"M320.5,-296.884C320.5,-288.778 320.5,-279.982 320.5,-271.472\"/>\r\n",
       "<polygon fill=\"black\" stroke=\"black\" points=\"324,-271.299 320.5,-261.299 317,-271.299 324,-271.299\"/>\r\n",
       "</g>\r\n",
       "<!-- 10 -->\r\n",
       "<g id=\"node11\" class=\"node\"><title>10</title>\r\n",
       "<path fill=\"#fefbf9\" stroke=\"black\" d=\"M555.5,-261C555.5,-261 437.5,-261 437.5,-261 431.5,-261 425.5,-255 425.5,-249 425.5,-249 425.5,-205 425.5,-205 425.5,-199 431.5,-193 437.5,-193 437.5,-193 555.5,-193 555.5,-193 561.5,-193 567.5,-199 567.5,-205 567.5,-205 567.5,-249 567.5,-249 567.5,-255 561.5,-261 555.5,-261\"/>\r\n",
       "<text text-anchor=\"start\" x=\"433.5\" y=\"-245.8\" font-family=\"Helvetica,sans-Serif\" font-size=\"14.00\">magnesium ≤ 132.0</text>\r\n",
       "<text text-anchor=\"start\" x=\"456\" y=\"-230.8\" font-family=\"Helvetica,sans-Serif\" font-size=\"14.00\">mse = 0.061</text>\r\n",
       "<text text-anchor=\"start\" x=\"453\" y=\"-215.8\" font-family=\"Helvetica,sans-Serif\" font-size=\"14.00\">samples = 46</text>\r\n",
       "<text text-anchor=\"start\" x=\"453.5\" y=\"-200.8\" font-family=\"Helvetica,sans-Serif\" font-size=\"14.00\">value = 0.065</text>\r\n",
       "</g>\r\n",
       "<!-- 4&#45;&gt;10 -->\r\n",
       "<g id=\"edge10\" class=\"edge\"><title>4&#45;&gt;10</title>\r\n",
       "<path fill=\"none\" stroke=\"black\" d=\"M376.188,-297.727C393.497,-287.695 412.743,-276.541 430.675,-266.149\"/>\r\n",
       "<polygon fill=\"black\" stroke=\"black\" points=\"432.461,-269.159 439.358,-261.116 428.951,-263.103 432.461,-269.159\"/>\r\n",
       "</g>\r\n",
       "<!-- 6 -->\r\n",
       "<g id=\"node7\" class=\"node\"><title>6</title>\r\n",
       "<path fill=\"#f5d0b5\" stroke=\"black\" d=\"M252.5,-157C252.5,-157 134.5,-157 134.5,-157 128.5,-157 122.5,-151 122.5,-145 122.5,-145 122.5,-101 122.5,-101 122.5,-95 128.5,-89 134.5,-89 134.5,-89 252.5,-89 252.5,-89 258.5,-89 264.5,-95 264.5,-101 264.5,-101 264.5,-145 264.5,-145 264.5,-151 258.5,-157 252.5,-157\"/>\r\n",
       "<text text-anchor=\"start\" x=\"130.5\" y=\"-141.8\" font-family=\"Helvetica,sans-Serif\" font-size=\"14.00\">magnesium ≤ 100.0</text>\r\n",
       "<text text-anchor=\"start\" x=\"153\" y=\"-126.8\" font-family=\"Helvetica,sans-Serif\" font-size=\"14.00\">mse = 0.188</text>\r\n",
       "<text text-anchor=\"start\" x=\"154\" y=\"-111.8\" font-family=\"Helvetica,sans-Serif\" font-size=\"14.00\">samples = 4</text>\r\n",
       "<text text-anchor=\"start\" x=\"154.5\" y=\"-96.8\" font-family=\"Helvetica,sans-Serif\" font-size=\"14.00\">value = 0.75</text>\r\n",
       "</g>\r\n",
       "<!-- 5&#45;&gt;6 -->\r\n",
       "<g id=\"edge6\" class=\"edge\"><title>5&#45;&gt;6</title>\r\n",
       "<path fill=\"none\" stroke=\"black\" d=\"M279.267,-192.884C267.622,-183.531 254.833,-173.259 242.766,-163.568\"/>\r\n",
       "<polygon fill=\"black\" stroke=\"black\" points=\"244.949,-160.832 234.961,-157.299 240.566,-166.29 244.949,-160.832\"/>\r\n",
       "</g>\r\n",
       "<!-- 9 -->\r\n",
       "<g id=\"node10\" class=\"node\"><title>9</title>\r\n",
       "<path fill=\"#f2c09c\" stroke=\"black\" d=\"M374,-149.5C374,-149.5 295,-149.5 295,-149.5 289,-149.5 283,-143.5 283,-137.5 283,-137.5 283,-108.5 283,-108.5 283,-102.5 289,-96.5 295,-96.5 295,-96.5 374,-96.5 374,-96.5 380,-96.5 386,-102.5 386,-108.5 386,-108.5 386,-137.5 386,-137.5 386,-143.5 380,-149.5 374,-149.5\"/>\r\n",
       "<text text-anchor=\"start\" x=\"302.5\" y=\"-134.3\" font-family=\"Helvetica,sans-Serif\" font-size=\"14.00\">mse = 0.0</text>\r\n",
       "<text text-anchor=\"start\" x=\"291\" y=\"-119.3\" font-family=\"Helvetica,sans-Serif\" font-size=\"14.00\">samples = 42</text>\r\n",
       "<text text-anchor=\"start\" x=\"299.5\" y=\"-104.3\" font-family=\"Helvetica,sans-Serif\" font-size=\"14.00\">value = 1.0</text>\r\n",
       "</g>\r\n",
       "<!-- 5&#45;&gt;9 -->\r\n",
       "<g id=\"edge9\" class=\"edge\"><title>5&#45;&gt;9</title>\r\n",
       "<path fill=\"none\" stroke=\"black\" d=\"M325.045,-192.884C326.51,-182.216 328.138,-170.352 329.625,-159.519\"/>\r\n",
       "<polygon fill=\"black\" stroke=\"black\" points=\"333.105,-159.903 330.997,-149.52 326.17,-158.951 333.105,-159.903\"/>\r\n",
       "</g>\r\n",
       "<!-- 7 -->\r\n",
       "<g id=\"node8\" class=\"node\"><title>7</title>\r\n",
       "<path fill=\"#f2c09c\" stroke=\"black\" d=\"M173,-53C173,-53 102,-53 102,-53 96,-53 90,-47 90,-41 90,-41 90,-12 90,-12 90,-6 96,-0 102,-0 102,-0 173,-0 173,-0 179,-0 185,-6 185,-12 185,-12 185,-41 185,-41 185,-47 179,-53 173,-53\"/>\r\n",
       "<text text-anchor=\"start\" x=\"105.5\" y=\"-37.8\" font-family=\"Helvetica,sans-Serif\" font-size=\"14.00\">mse = 0.0</text>\r\n",
       "<text text-anchor=\"start\" x=\"98\" y=\"-22.8\" font-family=\"Helvetica,sans-Serif\" font-size=\"14.00\">samples = 3</text>\r\n",
       "<text text-anchor=\"start\" x=\"102.5\" y=\"-7.8\" font-family=\"Helvetica,sans-Serif\" font-size=\"14.00\">value = 1.0</text>\r\n",
       "</g>\r\n",
       "<!-- 6&#45;&gt;7 -->\r\n",
       "<g id=\"edge7\" class=\"edge\"><title>6&#45;&gt;7</title>\r\n",
       "<path fill=\"none\" stroke=\"black\" d=\"M173.914,-88.9485C168.764,-80.2579 163.195,-70.8608 157.999,-62.0917\"/>\r\n",
       "<polygon fill=\"black\" stroke=\"black\" points=\"160.86,-60.0553 152.751,-53.2367 154.838,-63.624 160.86,-60.0553\"/>\r\n",
       "</g>\r\n",
       "<!-- 8 -->\r\n",
       "<g id=\"node9\" class=\"node\"><title>8</title>\r\n",
       "<path fill=\"#ffffff\" stroke=\"black\" d=\"M286,-53C286,-53 215,-53 215,-53 209,-53 203,-47 203,-41 203,-41 203,-12 203,-12 203,-6 209,-0 215,-0 215,-0 286,-0 286,-0 292,-0 298,-6 298,-12 298,-12 298,-41 298,-41 298,-47 292,-53 286,-53\"/>\r\n",
       "<text text-anchor=\"start\" x=\"218.5\" y=\"-37.8\" font-family=\"Helvetica,sans-Serif\" font-size=\"14.00\">mse = 0.0</text>\r\n",
       "<text text-anchor=\"start\" x=\"211\" y=\"-22.8\" font-family=\"Helvetica,sans-Serif\" font-size=\"14.00\">samples = 1</text>\r\n",
       "<text text-anchor=\"start\" x=\"215.5\" y=\"-7.8\" font-family=\"Helvetica,sans-Serif\" font-size=\"14.00\">value = 0.0</text>\r\n",
       "</g>\r\n",
       "<!-- 6&#45;&gt;8 -->\r\n",
       "<g id=\"edge8\" class=\"edge\"><title>6&#45;&gt;8</title>\r\n",
       "<path fill=\"none\" stroke=\"black\" d=\"M213.436,-88.9485C218.733,-80.1664 224.465,-70.6629 229.802,-61.815\"/>\r\n",
       "<polygon fill=\"black\" stroke=\"black\" points=\"232.808,-63.6074 234.976,-53.2367 226.814,-59.9919 232.808,-63.6074\"/>\r\n",
       "</g>\r\n",
       "<!-- 11 -->\r\n",
       "<g id=\"node12\" class=\"node\"><title>11</title>\r\n",
       "<path fill=\"#ffffff\" stroke=\"black\" d=\"M522,-149.5C522,-149.5 443,-149.5 443,-149.5 437,-149.5 431,-143.5 431,-137.5 431,-137.5 431,-108.5 431,-108.5 431,-102.5 437,-96.5 443,-96.5 443,-96.5 522,-96.5 522,-96.5 528,-96.5 534,-102.5 534,-108.5 534,-108.5 534,-137.5 534,-137.5 534,-143.5 528,-149.5 522,-149.5\"/>\r\n",
       "<text text-anchor=\"start\" x=\"450.5\" y=\"-134.3\" font-family=\"Helvetica,sans-Serif\" font-size=\"14.00\">mse = 0.0</text>\r\n",
       "<text text-anchor=\"start\" x=\"439\" y=\"-119.3\" font-family=\"Helvetica,sans-Serif\" font-size=\"14.00\">samples = 43</text>\r\n",
       "<text text-anchor=\"start\" x=\"447.5\" y=\"-104.3\" font-family=\"Helvetica,sans-Serif\" font-size=\"14.00\">value = 0.0</text>\r\n",
       "</g>\r\n",
       "<!-- 10&#45;&gt;11 -->\r\n",
       "<g id=\"edge11\" class=\"edge\"><title>10&#45;&gt;11</title>\r\n",
       "<path fill=\"none\" stroke=\"black\" d=\"M491.955,-192.884C490.49,-182.216 488.862,-170.352 487.375,-159.519\"/>\r\n",
       "<polygon fill=\"black\" stroke=\"black\" points=\"490.83,-158.951 486.003,-149.52 483.895,-159.903 490.83,-158.951\"/>\r\n",
       "</g>\r\n",
       "<!-- 12 -->\r\n",
       "<g id=\"node13\" class=\"node\"><title>12</title>\r\n",
       "<path fill=\"#f2c09c\" stroke=\"black\" d=\"M635,-149.5C635,-149.5 564,-149.5 564,-149.5 558,-149.5 552,-143.5 552,-137.5 552,-137.5 552,-108.5 552,-108.5 552,-102.5 558,-96.5 564,-96.5 564,-96.5 635,-96.5 635,-96.5 641,-96.5 647,-102.5 647,-108.5 647,-108.5 647,-137.5 647,-137.5 647,-143.5 641,-149.5 635,-149.5\"/>\r\n",
       "<text text-anchor=\"start\" x=\"567.5\" y=\"-134.3\" font-family=\"Helvetica,sans-Serif\" font-size=\"14.00\">mse = 0.0</text>\r\n",
       "<text text-anchor=\"start\" x=\"560\" y=\"-119.3\" font-family=\"Helvetica,sans-Serif\" font-size=\"14.00\">samples = 3</text>\r\n",
       "<text text-anchor=\"start\" x=\"564.5\" y=\"-104.3\" font-family=\"Helvetica,sans-Serif\" font-size=\"14.00\">value = 1.0</text>\r\n",
       "</g>\r\n",
       "<!-- 10&#45;&gt;12 -->\r\n",
       "<g id=\"edge12\" class=\"edge\"><title>10&#45;&gt;12</title>\r\n",
       "<path fill=\"none\" stroke=\"black\" d=\"M529.941,-192.884C541.602,-181.336 554.677,-168.387 566.317,-156.86\"/>\r\n",
       "<polygon fill=\"black\" stroke=\"black\" points=\"569.087,-159.043 573.73,-149.52 564.162,-154.07 569.087,-159.043\"/>\r\n",
       "</g>\r\n",
       "</g>\r\n",
       "</svg>\r\n"
      ],
      "text/plain": [
       "<graphviz.files.Source at 0x1de459758b0>"
      ]
     },
     "execution_count": 60,
     "metadata": {},
     "output_type": "execute_result"
    }
   ],
   "source": [
    "\n",
    "print(wine.feature_names)\n",
    "print(\"Feature importance: \", clf.feature_importances_)\n",
    "#tree.plot_tree(clf)\n",
    "# 預測值與實際值的差距，使用 MSE\n",
    "print(\"Mean squared error: %.2f\"\n",
    "      % mean_squared_error(y_test, y_pred))\n",
    "\n",
    "from sklearn.tree import export_graphviz\n",
    "import pydotplus\n",
    "import graphviz\n",
    "dot_data = export_graphviz(clf, out_file=None,feature_names=wine.feature_names,class_names=wine.target_names,filled=True, rounded=True,special_characters=True) \n",
    "graph = graphviz.Source(dot_data)  \n",
    "graph"
   ]
  },
  {
   "cell_type": "code",
   "execution_count": 57,
   "metadata": {},
   "outputs": [
    {
     "name": "stdout",
     "output_type": "stream",
     "text": [
      "Coefficients:  [-0.10139884  0.00890643 -0.22037614  0.04530773  0.00047883  0.13482576\n",
      " -0.325913   -0.15138182  0.03346     0.07702213 -0.15930159 -0.28874278\n",
      " -0.00079019]\n",
      "Mean squared error: 0.07\n"
     ]
    }
   ],
   "source": [
    "import numpy as np\n",
    "import matplotlib.pyplot as plt\n",
    "from sklearn import datasets, linear_model\n",
    "from sklearn.model_selection import train_test_split\n",
    "from sklearn.metrics import mean_squared_error, r2_score, accuracy_score\n",
    "\n",
    "# 讀取資料集\n",
    "wine = datasets.load_wine()\n",
    "\n",
    "# 切分訓練集/測試集\n",
    "x_train, x_test, y_train, y_test = train_test_split(wine.data, wine.target, test_size=0.25, random_state=4)\n",
    "\n",
    "# 建立一個線性回歸模型\n",
    "regr = linear_model.LinearRegression()\n",
    "\n",
    "# 將訓練資料丟進去模型訓練\n",
    "regr.fit(x_train, y_train)\n",
    "\n",
    "# 將測試資料丟進模型得到預測結果\n",
    "y_pred = regr.predict(x_test)\n",
    "\n",
    "\n",
    "# 可以看回歸模型的參數值\n",
    "print('Coefficients: ', regr.coef_)\n",
    "\n",
    "# 預測值與實際值的差距，使用 MSE\n",
    "print(\"Mean squared error: %.2f\"\n",
    "      % mean_squared_error(y_test, y_pred))"
   ]
  },
  {
   "cell_type": "code",
   "execution_count": null,
   "metadata": {},
   "outputs": [],
   "source": []
  }
 ],
 "metadata": {
  "kernelspec": {
   "display_name": "Python 3",
   "language": "python",
   "name": "python3"
  },
  "language_info": {
   "codemirror_mode": {
    "name": "ipython",
    "version": 3
   },
   "file_extension": ".py",
   "mimetype": "text/x-python",
   "name": "python",
   "nbconvert_exporter": "python",
   "pygments_lexer": "ipython3",
   "version": "3.8.3"
  }
 },
 "nbformat": 4,
 "nbformat_minor": 2
}
